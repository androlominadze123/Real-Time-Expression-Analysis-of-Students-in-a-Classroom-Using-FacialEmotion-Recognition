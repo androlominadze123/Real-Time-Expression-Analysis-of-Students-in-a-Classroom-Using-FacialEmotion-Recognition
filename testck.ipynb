{
 "cells": [
  {
   "cell_type": "code",
   "execution_count": 1,
   "metadata": {},
   "outputs": [
    {
     "name": "stderr",
     "output_type": "stream",
     "text": [
      "Using TensorFlow backend.\n"
     ]
    }
   ],
   "source": [
    "import numpy as np\n",
    "import argparse\n",
    "import imutils\n",
    "import time\n",
    "import cv2\n",
    "import pandas as pd\n",
    "import threading\n",
    "from collections import Counter\n",
    "from decimal import Decimal\n",
    "import os\n",
    "import glob\n",
    "import matplotlib.pyplot as plt\n",
    "from PIL import Image\n",
    "\n",
    "from keras.models import load_model\n",
    "from utils.preprocessor import preprocess_input"
   ]
  },
  {
   "cell_type": "code",
   "execution_count": 2,
   "metadata": {},
   "outputs": [
    {
     "name": "stderr",
     "output_type": "stream",
     "text": [
      "C:\\Users\\1\\Anaconda3\\lib\\site-packages\\keras\\engine\\saving.py:327: UserWarning: Error in loading the saved optimizer state. As a result, your model is starting with a freshly initialized optimizer.\n",
      "  warnings.warn('Error in loading the saved optimizer '\n"
     ]
    }
   ],
   "source": [
    "emotion_model_path = './models/emotion_model.hdf5'\n",
    "emotion_classifier = load_model(emotion_model_path)"
   ]
  },
  {
   "cell_type": "code",
   "execution_count": 3,
   "metadata": {
    "collapsed": true
   },
   "outputs": [],
   "source": [
    "face_cascade = cv2.CascadeClassifier('models\\haarcascade_frontalface_default.xml')"
   ]
  },
  {
   "cell_type": "code",
   "execution_count": 9,
   "metadata": {
    "collapsed": true
   },
   "outputs": [],
   "source": [
    "# image_list = []\n",
    "# em_list = []\n",
    "# for folder in glob.glob('test_new_data\\cohn-kanade-images'):\n",
    "#     for filename in (folder):\n",
    "#         em_list.append(filename.split(\"_\")[0])\n",
    "#         im = cv2.imread(filename,0)\n",
    "    \n",
    "#         face = face_cascade.detectMultiScale(im, 1.3, 4)\n",
    "#         for (x, y, w, h) in face:\n",
    "#             im = im[y:y + h, x:x + w]\n",
    "#         image_list.append(im)"
   ]
  },
  {
   "cell_type": "code",
   "execution_count": 12,
   "metadata": {
    "collapsed": true
   },
   "outputs": [],
   "source": [
    "image_list = []\n",
    "em_list = []\n",
    "id_list = []\n",
    "quant_list = []\n",
    "prev_id = \" \"\n",
    "prev_em = \" \"\n",
    "prev_path = \" \"\n",
    "for subdir, dirs, files in os.walk('test_new_data\\cohn-kanade-images'):\n",
    "    for file in files:\n",
    "        if file[-3:] == \"png\" and (file.split(\"_\")[0][:-2] != prev_id or file.split(\"_\")[1] != prev_em) :\n",
    "#             print(os.path.join(subdir, file))\n",
    "            ######### process the previous image\n",
    "    \n",
    "            prev_id = file.split(\"_\")[0][:-2]\n",
    "            prev_em = file.split(\"_\")[1] \n",
    "            prev_path = file\n",
    "            \n",
    "            prev_image = os.path.join(subdir, prev_path)\n",
    "            emo = file.split(\"_\")[1] # emotion \n",
    "            \n",
    "            \n",
    "            \n",
    "            if emo == \"001\":\n",
    "                emo = \"SU\"\n",
    "            elif emo == \"002\":\n",
    "                emo = \"SA\"\n",
    "            elif emo == \"003\":\n",
    "                emo = \"DI\"\n",
    "            elif emo == \"004\":\n",
    "                emo = \"AN\"\n",
    "            elif emo == \"005\":\n",
    "                emo = \"AN\"\n",
    "            elif emo == \"006\":\n",
    "                emo = \"HA\"\n",
    "            elif emo == \"007\":\n",
    "                emo = \"AN\"\n",
    "            elif emo == \"008\":\n",
    "                emo = \"FE\"\n",
    "            elif emo == \"009\":\n",
    "                emo = \"DI\"\n",
    "            elif emo == \"010\":\n",
    "                emo = \"SA\"\n",
    "            elif emo == \"011\":\n",
    "                emo = \"HA\"\n",
    "            elif emo == \"012\":\n",
    "                emo = \"HA\"\n",
    "            else:\n",
    "                emo = \"HA\"\n",
    "\n",
    "            em_list.append(emo)\n",
    "            \n",
    "            \n",
    "            pre_im = cv2.imread(prev_image,0)\n",
    "            face = face_cascade.detectMultiScale(pre_im, 1.3, 4)\n",
    "            for (x, y, w, h) in face:\n",
    "                pre_im = pre_im[y:y + h, x:x + w]\n",
    "            image_list.append(pre_im)\n",
    "            \n",
    "            ######## process the current image\n",
    "            image = os.path.join(subdir, file)\n",
    "            id_list.append(file.split(\"_\")[0][:-2]) # id\n",
    "            em = file.split(\"_\")[1] # emotion \n",
    "            em = \"NE\"\n",
    "            em_list.append(em)\n",
    "            quant_list.append(file.split(\"_\")[2][-3:]) # quantity of each emotion\n",
    "            im = cv2.imread(image,0)\n",
    "            face = face_cascade.detectMultiScale(im, 1.3, 4)\n",
    "            for (x, y, w, h) in face:\n",
    "                im = im[y:y + h, x:x + w]\n",
    "            image_list.append(im)\n",
    "            \n",
    "            "
   ]
  },
  {
   "cell_type": "code",
   "execution_count": 29,
   "metadata": {},
   "outputs": [
    {
     "data": {
      "text/plain": [
       "581"
      ]
     },
     "execution_count": 29,
     "metadata": {},
     "output_type": "execute_result"
    }
   ],
   "source": [
    "len(image_list)"
   ]
  },
  {
   "cell_type": "code",
   "execution_count": 30,
   "metadata": {},
   "outputs": [
    {
     "data": {
      "text/plain": [
       "581"
      ]
     },
     "execution_count": 30,
     "metadata": {},
     "output_type": "execute_result"
    }
   ],
   "source": [
    "len(em_list)"
   ]
  },
  {
   "cell_type": "code",
   "execution_count": 31,
   "metadata": {},
   "outputs": [
    {
     "data": {
      "text/plain": [
       "['HA', 'SA', 'DI', 'AN', 'AN']"
      ]
     },
     "execution_count": 31,
     "metadata": {},
     "output_type": "execute_result"
    }
   ],
   "source": [
    "em_list[:5]"
   ]
  },
  {
   "cell_type": "code",
   "execution_count": 32,
   "metadata": {},
   "outputs": [],
   "source": [
    "cv2.imshow( \"im\", image_list[5])\n",
    "cv2.waitKey(0)\n",
    "cv2.destroyAllWindows()"
   ]
  },
  {
   "cell_type": "code",
   "execution_count": 33,
   "metadata": {},
   "outputs": [
    {
     "name": "stdout",
     "output_type": "stream",
     "text": [
      "AN\n",
      "SA\n",
      "HA\n",
      "FE\n",
      "DI\n"
     ]
    }
   ],
   "source": [
    "def unique(list1): \n",
    "      \n",
    "    # insert the list to the set \n",
    "    list_set = set(list1) \n",
    "    # convert the set to the list \n",
    "    unique_list = (list(list_set)) \n",
    "    for x in unique_list: \n",
    "        print (x)\n",
    "        \n",
    "unique(em_list)"
   ]
  },
  {
   "cell_type": "code",
   "execution_count": 20,
   "metadata": {
    "collapsed": true
   },
   "outputs": [],
   "source": [
    "emotions = ['AN', 'DI', 'FE', 'HA', 'SA', 'SU', 'NE']"
   ]
  },
  {
   "cell_type": "code",
   "execution_count": 27,
   "metadata": {},
   "outputs": [],
   "source": [
    "for i in range(len(em_list)):\n",
    "    if emo == \"001\":\n",
    "        emo = \"SU\"\n",
    "    elif emo == \"002\":\n",
    "        emo = \"SA\"\n",
    "    elif emo == \"003\":\n",
    "        emo = \"DI\"\n",
    "    elif emo == \"004\":\n",
    "        emo = \"AN\"\n",
    "    elif emo == \"005\":\n",
    "        emo = \"AN\"\n",
    "    elif emo == \"006\":\n",
    "        emo = \"HA\"\n",
    "    elif emo == \"007\":\n",
    "        emo = \"AN\"\n",
    "    elif emo == \"008\":\n",
    "        emo = \"FE\"\n",
    "    elif emo == \"009\":\n",
    "        emo = \"DI\"\n",
    "    elif emo == \"010\":\n",
    "        emo = \"SA\"\n",
    "    elif emo == \"011\":\n",
    "        emo = \"HA\"\n",
    "    elif emo == \"012\":\n",
    "        emo = \"HA\"\n",
    "    else:\n",
    "        emo = \"HA\""
   ]
  },
  {
   "cell_type": "code",
   "execution_count": 28,
   "metadata": {},
   "outputs": [
    {
     "name": "stdout",
     "output_type": "stream",
     "text": [
      "AN\n",
      "SA\n",
      "HA\n",
      "FE\n",
      "DI\n"
     ]
    }
   ],
   "source": [
    "unique(em_list)"
   ]
  },
  {
   "cell_type": "code",
   "execution_count": 34,
   "metadata": {},
   "outputs": [
    {
     "ename": "error",
     "evalue": "OpenCV(3.4.1) C:\\Miniconda3\\conda-bld\\opencv-suite_1533128839831\\work\\modules\\imgproc\\src\\color.cpp:11147: error: (-215) scn == 3 || scn == 4 in function cv::cvtColor\n",
     "output_type": "error",
     "traceback": [
      "\u001b[1;31m---------------------------------------------------------------------------\u001b[0m",
      "\u001b[1;31merror\u001b[0m                                     Traceback (most recent call last)",
      "\u001b[1;32m<ipython-input-34-3114a4340fdb>\u001b[0m in \u001b[0;36m<module>\u001b[1;34m()\u001b[0m\n\u001b[0;32m      2\u001b[0m \u001b[1;32mfor\u001b[0m \u001b[0mimage\u001b[0m \u001b[1;32min\u001b[0m \u001b[0mimage_list\u001b[0m\u001b[1;33m:\u001b[0m\u001b[1;33m\u001b[0m\u001b[1;33m\u001b[0m\u001b[0m\n\u001b[0;32m      3\u001b[0m     \u001b[0mimage\u001b[0m \u001b[1;33m=\u001b[0m \u001b[0mnp\u001b[0m\u001b[1;33m.\u001b[0m\u001b[0marray\u001b[0m\u001b[1;33m(\u001b[0m\u001b[0mimage\u001b[0m\u001b[1;33m)\u001b[0m\u001b[1;33m\u001b[0m\u001b[1;33m\u001b[0m\u001b[0m\n\u001b[1;32m----> 4\u001b[1;33m     \u001b[0mgray_image\u001b[0m \u001b[1;33m=\u001b[0m \u001b[0mcv2\u001b[0m\u001b[1;33m.\u001b[0m\u001b[0mcvtColor\u001b[0m\u001b[1;33m(\u001b[0m\u001b[0mimage\u001b[0m\u001b[1;33m,\u001b[0m \u001b[0mcv2\u001b[0m\u001b[1;33m.\u001b[0m\u001b[0mCOLOR_BGR2GRAY\u001b[0m\u001b[1;33m)\u001b[0m\u001b[1;33m\u001b[0m\u001b[1;33m\u001b[0m\u001b[0m\n\u001b[0m\u001b[0;32m      5\u001b[0m     \u001b[0mgray_face\u001b[0m \u001b[1;33m=\u001b[0m \u001b[0mcv2\u001b[0m\u001b[1;33m.\u001b[0m\u001b[0mresize\u001b[0m\u001b[1;33m(\u001b[0m\u001b[0mgray_image\u001b[0m\u001b[1;33m,\u001b[0m \u001b[1;33m(\u001b[0m\u001b[1;36m64\u001b[0m\u001b[1;33m,\u001b[0m \u001b[1;36m64\u001b[0m\u001b[1;33m)\u001b[0m\u001b[1;33m)\u001b[0m\u001b[1;33m\u001b[0m\u001b[1;33m\u001b[0m\u001b[0m\n\u001b[0;32m      6\u001b[0m \u001b[1;33m\u001b[0m\u001b[0m\n",
      "\u001b[1;31merror\u001b[0m: OpenCV(3.4.1) C:\\Miniconda3\\conda-bld\\opencv-suite_1533128839831\\work\\modules\\imgproc\\src\\color.cpp:11147: error: (-215) scn == 3 || scn == 4 in function cv::cvtColor\n"
     ]
    }
   ],
   "source": [
    "preds = []\n",
    "for image in image_list:\n",
    "    image = np.array(image)\n",
    "    gray_image = cv2.cvtColor(image, cv2.COLOR_BGR2GRAY)\n",
    "    gray_face = cv2.resize(gray_image, (64, 64))\n",
    "    \n",
    "    gray_face = preprocess_input(gray_face, True)\n",
    "    gray_face = np.expand_dims(gray_face, 0)\n",
    "    gray_face = np.expand_dims(gray_face, -1)\n",
    "    emotion_prediction = emotion_classifier.predict(gray_face)\n",
    "    emotion_probability = np.max(emotion_prediction)\n",
    "    emotion_label_arg = np.argmax(emotion_prediction)\n",
    "    prediction = emotions[emotion_label_arg]\n",
    "    preds.append(prediction)"
   ]
  },
  {
   "cell_type": "code",
   "execution_count": null,
   "metadata": {
    "collapsed": true
   },
   "outputs": [],
   "source": []
  }
 ],
 "metadata": {
  "kernelspec": {
   "display_name": "Python 3",
   "language": "python",
   "name": "python3"
  },
  "language_info": {
   "codemirror_mode": {
    "name": "ipython",
    "version": 3
   },
   "file_extension": ".py",
   "mimetype": "text/x-python",
   "name": "python",
   "nbconvert_exporter": "python",
   "pygments_lexer": "ipython3",
   "version": "3.6.8"
  }
 },
 "nbformat": 4,
 "nbformat_minor": 2
}
